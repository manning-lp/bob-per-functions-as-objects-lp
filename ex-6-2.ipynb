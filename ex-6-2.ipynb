{
 "cells": [
  {
   "cell_type": "markdown",
   "metadata": {},
   "source": [
    "## Workflow: Selecting Functions with a Dictionary and Creating Decorators"
   ]
  },
  {
   "cell_type": "code",
   "execution_count": 34,
   "metadata": {},
   "outputs": [],
   "source": [
    "# 1. Load the data\n",
    "\n",
    "products = [\n",
    "    [\"SKU\", \"description\", \"cost\", \"list_price\", \"units_in_stock\", \"target_margin\"],\n",
    "    ['  20776', 'Budget Device\\tMini\\n1000-pack', '$284.43', '$406.563', '673', '42.9%'],\n",
    "    ['  13508', 'Budget Widget\\tExtra Large\\n1000-pack', '$207.49', '$270.203', '461','30.2%'],\n",
    "    ['   1261', 'Super Whatsit\\tMini\\nDozen', '$1,091.33', '$1,485.85', '368', '36.1%'],\n",
    "    ['  49367', 'Super Gizmo\\tExtra Large\\nGross', '$1,977.36', '$2,589.87', '2,585', '31.0%'],\n",
    "    ['  39655', 'Student Gadget\\tMini\\nGross', '$437.97', '$656.749', '4,452', '50.0%']\n",
    "]\n",
    "# products"
   ]
  },
  {
   "cell_type": "code",
   "execution_count": 35,
   "metadata": {},
   "outputs": [
    {
     "data": {
      "text/plain": [
       "{0: <function __main__.get_sku(field)>,\n",
       " 1: <function __main__.get_description(field)>,\n",
       " 2: <function __main__.get_currency(field)>,\n",
       " 3: <function __main__.get_currency(field)>,\n",
       " 4: <function __main__.get_integer(field)>,\n",
       " 5: <function __main__.get_percent(field)>}"
      ]
     },
     "execution_count": 35,
     "metadata": {},
     "output_type": "execute_result"
    }
   ],
   "source": [
    "# 3. Put the get_XX functions into a dictionary ...\n",
    "\n",
    "def clean_spaces(field):\n",
    "    \"\"\"Removes leading and trailing spaces\"\"\"\n",
    "    return field.strip()\n",
    "\n",
    "def clean_whitespace(field):\n",
    "    \"\"\"Changes tabs and newlines to spaces\"\"\"\n",
    "    table = field.maketrans('\\t\\n', '  ')\n",
    "    contents = field.translate(table)\n",
    "    return contents\n",
    "\n",
    "def clean_commas(field):\n",
    "    \"\"\"Removes commas\"\"\"\n",
    "    return field.replace(',', '')\n",
    "\n",
    "def clean_currency(field):\n",
    "    \"\"\"Removes '$'\"\"\"\n",
    "    return field.replace('$', '')\n",
    "\n",
    "def clean_percent(field):\n",
    "    \"\"\"Removes '%'\"\"\"\n",
    "    return field.replace('%', '')\n",
    "\n",
    "#clean_spaces('  abc123  ')\n",
    "#clean_whitespace('tabs\\tand\\nnewlines')\n",
    "#clean_commas('1,234.00')\n",
    "#clean_currency('$1,234.56')\n",
    "#clean_percent('%100')\n",
    "\n",
    "def get_sku(field):\n",
    "    \"\"\"returns the cleaned sku\"\"\"\n",
    "    return clean_spaces(field)\n",
    "\n",
    "def get_description(field):\n",
    "    \"\"\"returns the cleaned description\"\"\"\n",
    "    return clean_whitespace(field)\n",
    "\n",
    "def get_currency(field):\n",
    "    \"\"\"returns the cleaned currency field\"\"\"\n",
    "    return float(clean_commas(clean_currency(field)))\n",
    "\n",
    "def get_integer(field):\n",
    "    \"\"\"returns the cleaned integer field\"\"\"\n",
    "    return int(clean_commas(field))\n",
    "\n",
    "def get_percent(field):\n",
    "    \"\"\"returns the cleaned percentage as a fraction\"\"\"\n",
    "    return float(clean_commas(clean_percent(field))) / 100\n",
    "\n",
    "getters = { 0: get_sku, 1: get_description, 2: get_currency, 3: get_currency, 4: get_integer, 5: get_percent }\n",
    "getters\n",
    "\n",
    "#get_sku('  20776')\n",
    "#get_description('Budget Device\\tMini\\n1000-pack')\n",
    "#get_currency('$1,234.56')\n",
    "#get_integer('2,585')\n",
    "#get_percent('42.9%')"
   ]
  },
  {
   "cell_type": "code",
   "execution_count": 36,
   "metadata": {},
   "outputs": [
    {
     "data": {
      "text/plain": [
       "[['SKU',\n",
       "  'description',\n",
       "  'cost',\n",
       "  'list_price',\n",
       "  'units_in_stock',\n",
       "  'target_margin'],\n",
       " ['20776', 'Budget Device Mini 1000-pack', 284.43, 406.563, 673, 0.429],\n",
       " ['13508', 'Budget Widget Extra Large 1000-pack', 207.49, 270.203, 461, 0.302],\n",
       " ['1261', 'Super Whatsit Mini Dozen', 1091.33, 1485.85, 368, 0.361],\n",
       " ['49367', 'Super Gizmo Extra Large Gross', 1977.36, 2589.87, 2585, 0.31],\n",
       " ['39655', 'Student Gadget Mini Gross', 437.97, 656.749, 4452, 0.5]]"
      ]
     },
     "execution_count": 36,
     "metadata": {},
     "output_type": "execute_result"
    }
   ],
   "source": [
    "# 4. loop over the rows and fields in the data... use the dictionary with the field number as the key\n",
    "\n",
    "cleaned_products = []\n",
    "cleaned_products.append(products[0])\n",
    "for row in products[1:]:\n",
    "    #print(row)\n",
    "    clean_row = [getters[col](row[col]) for col in range(len(row))]\n",
    "    #print(clean_row2)\n",
    "    cleaned_products.append(clean_row)\n",
    "cleaned_products"
   ]
  },
  {
   "cell_type": "code",
   "execution_count": 37,
   "metadata": {},
   "outputs": [
    {
     "name": "stdout",
     "output_type": "stream",
     "text": [
      "abc123\n",
      "tabs and newlines\n",
      "1234.00\n",
      "1,234.56\n",
      "100\n"
     ]
    }
   ],
   "source": [
    "# 5. create decorator functions from the specific cleaning functions...\n",
    "\n",
    "from functools import wraps\n",
    "\n",
    "def clean_spaces(func):\n",
    "    @wraps(func)\n",
    "    def wrapper(field):\n",
    "        \"\"\"Removes leading and trailing spaces\"\"\"\n",
    "        field = field.strip()\n",
    "        return func(field)\n",
    "    return wrapper\n",
    "\n",
    "def clean_whitespace(func):\n",
    "    @wraps(func)\n",
    "    def wrapper(field):\n",
    "        \"\"\"Changes tabs and newlines to spaces\"\"\"\n",
    "        table = field.maketrans('\\t\\n', '  ')\n",
    "        field = field.translate(table)\n",
    "        return func(field)\n",
    "    return wrapper\n",
    "\n",
    "def clean_commas(func):\n",
    "    @wraps(func)\n",
    "    def wrapper(field):\n",
    "        \"\"\"Removes commas\"\"\"\n",
    "        field = field.replace(',', '')\n",
    "        return func(field)\n",
    "    return wrapper\n",
    "\n",
    "def clean_currency(func):\n",
    "    @wraps(func)\n",
    "    def wrapper(field):\n",
    "        \"\"\"Removes '$'\"\"\"\n",
    "        field = field.replace('$', '')\n",
    "        return func(field)\n",
    "    return wrapper\n",
    "\n",
    "def clean_percent(func):\n",
    "    @wraps(func)\n",
    "    def wrapper(field):\n",
    "        \"\"\"Removes '%'\"\"\"\n",
    "        field = field.replace('%', '')\n",
    "        return func(field)\n",
    "    return wrapper\n",
    "\n",
    "# test\n",
    "@clean_spaces\n",
    "def f1(field):\n",
    "    print(field)\n",
    "f1('  abc123  ')\n",
    "@clean_whitespace\n",
    "def f2(field):\n",
    "    print(field)\n",
    "f2('tabs\\tand\\nnewlines')\n",
    "@clean_commas\n",
    "def f3(field):\n",
    "    print(field)\n",
    "f3('1,234.00')\n",
    "@clean_currency\n",
    "def f4(field):\n",
    "    print(field)\n",
    "f4('$1,234.56')\n",
    "@clean_percent\n",
    "def f5(field):\n",
    "    print(field)\n",
    "f5('%100')"
   ]
  },
  {
   "cell_type": "code",
   "execution_count": 38,
   "metadata": {},
   "outputs": [
    {
     "data": {
      "text/plain": [
       "[['SKU',\n",
       "  'description',\n",
       "  'cost',\n",
       "  'list_price',\n",
       "  'units_in_stock',\n",
       "  'target_margin'],\n",
       " ['20776', 'Budget Device Mini 1000-pack', 284.43, 406.563, 673, 0.429],\n",
       " ['13508', 'Budget Widget Extra Large 1000-pack', 207.49, 270.203, 461, 0.302],\n",
       " ['1261', 'Super Whatsit Mini Dozen', 1091.33, 1485.85, 368, 0.361],\n",
       " ['49367', 'Super Gizmo Extra Large Gross', 1977.36, 2589.87, 2585, 0.31],\n",
       " ['39655', 'Student Gadget Mini Gross', 437.97, 656.749, 4452, 0.5]]"
      ]
     },
     "execution_count": 38,
     "metadata": {},
     "output_type": "execute_result"
    }
   ],
   "source": [
    "# 6. Use the decorators with the field cleaning functions...\n",
    "\n",
    "@clean_spaces\n",
    "def get_sku(field):\n",
    "    \"\"\"returns the cleaned sku\"\"\"\n",
    "    return field\n",
    "\n",
    "@clean_whitespace\n",
    "def get_description(field):\n",
    "    \"\"\"returns the cleaned description\"\"\"\n",
    "    return field\n",
    "\n",
    "@clean_currency\n",
    "@clean_commas\n",
    "def get_currency(field):\n",
    "    \"\"\"returns the cleaned currency field\"\"\"\n",
    "    return float(field)\n",
    "\n",
    "@clean_commas\n",
    "def get_integer(field):\n",
    "    \"\"\"returns the cleaned integer field\"\"\"\n",
    "    return int(field)\n",
    "\n",
    "@clean_percent\n",
    "@clean_commas\n",
    "def get_percent(field):\n",
    "    \"\"\"returns the cleaned percentage as a fraction\"\"\"\n",
    "    return float(field) / 100\n",
    "\n",
    "getters = { 0: get_sku, 1: get_description, 2: get_currency, 3: get_currency, 4: get_integer, 5: get_percent }\n",
    "#getters\n",
    "\n",
    "# test\n",
    "cleaned_products = []\n",
    "cleaned_products.append(products[0])\n",
    "for row in products[1:]:\n",
    "    #print(row)\n",
    "    clean_row = [getters[col](row[col]) for col in range(len(row))]\n",
    "    #print(clean_row2)\n",
    "    cleaned_products.append(clean_row)\n",
    "cleaned_products"
   ]
  }
 ],
 "metadata": {
  "kernelspec": {
   "display_name": "Python 3",
   "language": "python",
   "name": "python3"
  },
  "language_info": {
   "codemirror_mode": {
    "name": "ipython",
    "version": 3
   },
   "file_extension": ".py",
   "mimetype": "text/x-python",
   "name": "python",
   "nbconvert_exporter": "python",
   "pygments_lexer": "ipython3",
   "version": "3.12.8"
  }
 },
 "nbformat": 4,
 "nbformat_minor": 2
}
