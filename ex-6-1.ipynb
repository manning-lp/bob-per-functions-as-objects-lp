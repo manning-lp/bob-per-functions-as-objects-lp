{
 "cells": [
  {
   "cell_type": "markdown",
   "metadata": {},
   "source": [
    "## Workflow: Breaking Operations into Separate Functions"
   ]
  },
  {
   "cell_type": "code",
   "execution_count": 83,
   "metadata": {},
   "outputs": [],
   "source": [
    "# 1. Load the data\n",
    "\n",
    "products = [\n",
    "    [\"SKU\", \"description\", \"cost\", \"list_price\", \"units_in_stock\", \"target_margin\"],\n",
    "    ['  20776', 'Budget Device\\tMini\\n1000-pack', '$284.43', '$406.563', '673', '42.9%'],\n",
    "    ['  13508', 'Budget Widget\\tExtra Large\\n1000-pack', '$207.49', '$270.203', '461','30.2%'],\n",
    "    ['   1261', 'Super Whatsit\\tMini\\nDozen', '$1,091.33', '$1,485.85', '368', '36.1%'],\n",
    "    ['  49367', 'Super Gizmo\\tExtra Large\\nGross', '$1,977.36', '$2,589.87', '2,585', '31.0%'],\n",
    "    ['  39655', 'Student Gadget\\tMini\\nGross', '$437.97', '$656.749', '4,452', '50.0%']\n",
    "]\n",
    "# products"
   ]
  },
  {
   "cell_type": "code",
   "execution_count": 84,
   "metadata": {},
   "outputs": [],
   "source": [
    "# 3. The first step is to implement basic versions of the functions...\n",
    "\n",
    "def get_sku(field):\n",
    "    \"\"\"returns the contents of a field after removing leading or trailing spaces\"\"\"\n",
    "    contents = field.strip()\n",
    "    return contents\n",
    "\n",
    "def get_description(field):\n",
    "    \"\"\"returns the contents of a field after replacing tabs and new lines with spaces\"\"\"\n",
    "    table = field.maketrans('\\t\\n', '  ')\n",
    "    contents = field.translate(table)\n",
    "    return contents\n",
    "\n",
    "def get_currency(field):\n",
    "    \"\"\"returns the contents of a field after removing '$' and commas and converting to float\"\"\"\n",
    "    contents = float(field.strip('$').replace(',', ''))\n",
    "    return contents\n",
    "\n",
    "def get_integer(field):\n",
    "    \"\"\"returns the contents of a field after removing commas and converting to integer\"\"\"\n",
    "    contents = int(field.replace(',', ''))\n",
    "    return contents\n",
    "\n",
    "def get_percent(field):\n",
    "    \"\"\"returns the contents of a field after removing '%' and commas and converting to a fraction\"\"\"\n",
    "    contents = float(field.replace('%', '').replace(',', '')) / 100\n",
    "    return contents\n",
    "\n",
    "getters = { 0: get_sku, 1: get_description, 2: get_currency, 3: get_currency, 4: get_integer, 5: get_percent }\n",
    "#getters\n",
    "\n",
    "#get_sku('  20776')\n",
    "#get_description('Budget Device\\tMini\\n1000-pack')\n",
    "#get_currency('$1,234.56')\n",
    "#get_integer('2,585')\n",
    "#get_percent('42.9%')"
   ]
  },
  {
   "cell_type": "code",
   "execution_count": 85,
   "metadata": {},
   "outputs": [
    {
     "data": {
      "text/plain": [
       "[['SKU',\n",
       "  'description',\n",
       "  'cost',\n",
       "  'list_price',\n",
       "  'units_in_stock',\n",
       "  'target_margin'],\n",
       " ['20776', 'Budget Device Mini 1000-pack', 284.43, 406.563, 673, 0.429],\n",
       " ['13508', 'Budget Widget Extra Large 1000-pack', 207.49, 270.203, 461, 0.302],\n",
       " ['1261', 'Super Whatsit Mini Dozen', 1091.33, 1485.85, 368, 0.361],\n",
       " ['49367', 'Super Gizmo Extra Large Gross', 1977.36, 2589.87, 2585, 0.31],\n",
       " ['39655', 'Student Gadget Mini Gross', 437.97, 656.749, 4452, 0.5]]"
      ]
     },
     "execution_count": 85,
     "metadata": {},
     "output_type": "execute_result"
    }
   ],
   "source": [
    "# 4. Write some code that loops through each row of the data ...\n",
    "\n",
    "cleaned_products = []\n",
    "cleaned_products.append(products[0])\n",
    "for row in products[1:]:\n",
    "    #print(row)\n",
    "    clean_row = [getters[col](row[col]) for col in range(len(row))]\n",
    "    #print(clean_row)\n",
    "    cleaned_products.append(clean_row)\n",
    "cleaned_products"
   ]
  },
  {
   "cell_type": "code",
   "execution_count": 86,
   "metadata": {},
   "outputs": [],
   "source": [
    "# 5. Break out the specific data cleaning actions... into separate functions\n",
    "\n",
    "def clean_spaces(field):\n",
    "    \"\"\"Removes leading and trailing spaces\"\"\"\n",
    "    return field.strip()\n",
    "\n",
    "def clean_whitespace(field):\n",
    "    \"\"\"Changes tabs and newlines to spaces\"\"\"\n",
    "    table = field.maketrans('\\t\\n', '  ')\n",
    "    contents = field.translate(table)\n",
    "    return contents\n",
    "\n",
    "def clean_commas(field):\n",
    "    \"\"\"Removes commas\"\"\"\n",
    "    return field.replace(',', '')\n",
    "\n",
    "def clean_currency(field):\n",
    "    \"\"\"Removes '$'\"\"\"\n",
    "    return field.replace('$', '')\n",
    "\n",
    "def clean_percent(field):\n",
    "    \"\"\"Removes '%'\"\"\"\n",
    "    return field.replace('%', '')\n",
    "\n",
    "#clean_spaces('  abc123  ')\n",
    "#clean_whitespace('tabs\\tand\\nnewlines')\n",
    "#clean_commas('1,234.00')\n",
    "#clean_currency('$1,234.56')\n",
    "#clean_percent('%100')"
   ]
  },
  {
   "cell_type": "code",
   "execution_count": 87,
   "metadata": {},
   "outputs": [
    {
     "data": {
      "text/plain": [
       "[['SKU',\n",
       "  'description',\n",
       "  'cost',\n",
       "  'list_price',\n",
       "  'units_in_stock',\n",
       "  'target_margin'],\n",
       " ['20776', 'Budget Device Mini 1000-pack', 284.43, 406.563, 673, 0.429],\n",
       " ['13508', 'Budget Widget Extra Large 1000-pack', 207.49, 270.203, 461, 0.302],\n",
       " ['1261', 'Super Whatsit Mini Dozen', 1091.33, 1485.85, 368, 0.361],\n",
       " ['49367', 'Super Gizmo Extra Large Gross', 1977.36, 2589.87, 2585, 0.31],\n",
       " ['39655', 'Student Gadget Mini Gross', 437.97, 656.749, 4452, 0.5]]"
      ]
     },
     "execution_count": 87,
     "metadata": {},
     "output_type": "execute_result"
    }
   ],
   "source": [
    "# 6. Make the main field functions call the appropriate cleaning functions...\n",
    "\n",
    "def get_sku2(field):\n",
    "    \"\"\"returns the cleaned sku\"\"\"\n",
    "    return clean_spaces(field)\n",
    "\n",
    "def get_description2(field):\n",
    "    \"\"\"returns the cleaned description\"\"\"\n",
    "    return clean_whitespace(field)\n",
    "\n",
    "def get_currency2(field):\n",
    "    \"\"\"returns the cleaned currency field\"\"\"\n",
    "    return float(clean_commas(clean_currency(field)))\n",
    "\n",
    "def get_integer2(field):\n",
    "    \"\"\"returns the cleaned integer field\"\"\"\n",
    "    return int(clean_commas(field))\n",
    "\n",
    "def get_percent2(field):\n",
    "    \"\"\"returns the cleaned percentage as a fraction\"\"\"\n",
    "    return float(clean_commas(clean_percent(field))) / 100\n",
    "\n",
    "getters2 = { 0: get_sku2, 1: get_description2, 2: get_currency2, 3: get_currency2, 4: get_integer2, 5: get_percent2 }\n",
    "#getters2\n",
    "\n",
    "#get_sku2('  20776')\n",
    "#get_description2('Budget Device\\tMini\\n1000-pack')\n",
    "#get_currency2('$1,234.56')\n",
    "#get_integer2('2,585')\n",
    "#get_percent2('42.9%')\n",
    "\n",
    "# test\n",
    "cleaned_products2 = []\n",
    "cleaned_products2.append(products[0])\n",
    "for row in products[1:]:\n",
    "    #print(row)\n",
    "    clean_row2 = [getters2[col](row[col]) for col in range(len(row))]\n",
    "    #print(clean_row2)\n",
    "    cleaned_products2.append(clean_row2)\n",
    "cleaned_products2"
   ]
  }
 ],
 "metadata": {
  "kernelspec": {
   "display_name": "Python 3",
   "language": "python",
   "name": "python3"
  },
  "language_info": {
   "codemirror_mode": {
    "name": "ipython",
    "version": 3
   },
   "file_extension": ".py",
   "mimetype": "text/x-python",
   "name": "python",
   "nbconvert_exporter": "python",
   "pygments_lexer": "ipython3",
   "version": "3.12.8"
  }
 },
 "nbformat": 4,
 "nbformat_minor": 2
}
